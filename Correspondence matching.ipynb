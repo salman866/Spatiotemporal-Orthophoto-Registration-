{
 "cells": [
  {
   "cell_type": "code",
   "execution_count": null,
   "id": "f30b8d39",
   "metadata": {},
   "outputs": [],
   "source": [
    "import os\n",
    "import torch\n",
    "import rasterio\n",
    "import geopandas as gpd\n",
    "import numpy as np\n",
    "import json\n",
    "import fiona\n",
    "from samgeo.hq_sam import SamGeo\n",
    "import GeoUtils\n",
    "import GeoFeatures\n",
    "import SegmentPlots\n",
    "import GeoRegistration\n",
    "from shapely.geometry import Point\n",
    "import math\n",
    "import matplotlib.pyplot as plt"
   ]
  },
  {
   "cell_type": "markdown",
   "id": "0b3769be",
   "metadata": {},
   "source": [
    "## Initialize variables"
   ]
  },
  {
   "cell_type": "code",
   "execution_count": null,
   "id": "da18703c",
   "metadata": {},
   "outputs": [],
   "source": [
    "sam_model_path = os.path.join('sam_hq_vit_h.pth')\n",
    "downSampleFactor = 2\n",
    "crs = \"EPSG:4326\"\n",
    "folderName = 'Data'\n",
    "s1_FileName = '03-02-2023'\n",
    "s1_FolderPath = os.path.join(folderName, s1_FileName)\n",
    "s1_img_input = os.path.join(s1_FolderPath, s1_FileName + '.tif')\n",
    "\n",
    "s2_FileName = '13-03-2023'\n",
    "s2_FolderPath = os.path.join(folderName, s2_FileName)\n",
    "s2_img_input = os.path.join(s2_FolderPath, s2_FileName + '.tif')\n",
    "\n",
    "gcp_template_file_path = os.path.join(folderName, 'Results', 'points.txt')\n",
    "gcp_out_file = os.path.join(folderName, 'Results', s1_FileName+'-'+s2_FileName+'.points')\n",
    "\n",
    "bins_dist = 24\n",
    "bins_brg = 24\n",
    "min_Neighbors = 5 \n",
    "neighbor_percentile = 90 "
   ]
  },
  {
   "cell_type": "code",
   "execution_count": null,
   "id": "c842acd1",
   "metadata": {},
   "outputs": [],
   "source": [
    "# Downsample the orthomosaics for reducing subsequent computational complexity\n",
    "s1_img_input_resampled = GeoUtils.resampledGeoTiff(s1_img_input, downSampleFactor)\n",
    "s2_img_input_resampled = GeoUtils.resampledGeoTiff(s2_img_input, downSampleFactor)\n",
    "s1_img_input_reprojected = GeoUtils.change_CRS_raster(s1_img_input_resampled, crs)\n",
    "s2_img_input_reprojected = GeoUtils.change_CRS_raster(s2_img_input_resampled, crs)"
   ]
  },
  {
   "cell_type": "markdown",
   "id": "7e682fa4",
   "metadata": {},
   "source": [
    "## Use SAM for segmenting the plots"
   ]
  },
  {
   "cell_type": "code",
   "execution_count": null,
   "id": "4ca374d4",
   "metadata": {},
   "outputs": [],
   "source": [
    "# Segment the plots using Segment Anything Model\n",
    "sam = SamGeo(checkpoint=sam_model_path, model_type='vit_h', sam_kwargs=None)\n",
    "SegmentPlots.generateSegmentationMask(s1_img_input_resampled, sam)\n",
    "SegmentPlots.generateSegmentationMask(s2_img_input_resampled, sam)\n",
    "\n",
    "s1_input_raster = os.path.join(s1_FolderPath, s1_FileName + '-resampled-annotation.tif')\n",
    "s1_output_vector = os.path.join(s1_FolderPath, s1_FileName + '-resampled-vector.shp')\n",
    "s2_input_raster = os.path.join(s2_FolderPath, s2_FileName + '-resampled-annotation.tif')\n",
    "s2_output_vector = os.path.join(s2_FolderPath, s2_FileName + '-resampled-vector.shp')\n",
    "## Convert the rasterized segmentation results from SAM to vector format\n",
    "SegmentPlots.raster_to_polygon(s1_input_raster, s1_output_vector)\n",
    "SegmentPlots.raster_to_polygon(s2_input_raster, s2_output_vector)"
   ]
  },
  {
   "cell_type": "markdown",
   "id": "712ad2ad",
   "metadata": {},
   "source": [
    "## Remove outliers based on area of polygons and generate centroids on selected plots "
   ]
  },
  {
   "cell_type": "code",
   "execution_count": null,
   "id": "2843338f",
   "metadata": {},
   "outputs": [],
   "source": [
    "s1_vector_input_Path = os.path.join(s1_FolderPath,s1_FileName+'-resampled-vector.shp')\n",
    "s1_selected_polygons = SegmentPlots.selectPolygons(s1_vector_input_Path)\n",
    "s2_vector_input_Path = os.path.join(s2_FolderPath,s2_FileName+'-resampled-vector.shp')\n",
    "s2_selected_polygons = SegmentPlots.selectPolygons(s2_vector_input_Path)\n",
    "s1_centroids = SegmentPlots.generateCentroids(s1_selected_polygons, s1_vector_input_Path)\n",
    "s2_centroids = SegmentPlots.generateCentroids(s2_selected_polygons, s2_vector_input_Path)"
   ]
  },
  {
   "cell_type": "markdown",
   "id": "6fd1d49b",
   "metadata": {},
   "source": [
    "## Generate feature descriptor for Reference Image"
   ]
  },
  {
   "cell_type": "code",
   "execution_count": null,
   "id": "1dd0f8ed",
   "metadata": {},
   "outputs": [],
   "source": [
    "s1_centroids_transformed_path = os.path.join(s1_FolderPath,s1_FileName+'-centroids-transfromed.shp')\n",
    "# Identify and drop rows with duplicate values in the 'coordinate' column\n",
    "s1_centroids = s1_centroids[~s1_centroids.duplicated(subset='geometry', keep='first')]\n",
    "# Transform coordinates into EPSG: 4326\n",
    "s1_centroids_transformed = GeoUtils.transformCRS(s1_centroids, crs)\n",
    "# Sort the centroids based on latitude\n",
    "s1_centroids_transformed = GeoUtils.sortGeoDataframe(s1_centroids_transformed)\n",
    "# Assign id to each point\n",
    "s1_centroids_transformed['id'] = range(1, len(s1_centroids_transformed) + 1)\n",
    "# Calculate distance threshold\n",
    "dist_dict = GeoFeatures.getDistanceDictionary(s1_centroids_transformed)\n",
    "distanceThresholdNeighbors = GeoFeatures.getDistThresholdNeighbors(dist_dict, min_Neighbors, neighbor_percentile)\n",
    "s1_neighbor_dist = GeoFeatures.get_neighbor_distances(s1_centroids_transformed, distanceThresholdNeighbors)\n",
    "# Calculate feature vector for each feature\n",
    "s1_featureDescriptor = GeoFeatures.get_feature_descriptor(s1_centroids_transformed,s1_neighbor_dist)\n",
    "# Append the feature descriptor to the geopandas dataframe\n",
    "s1_centroids_transformed = GeoFeatures.appendFeatureDescriptor(s1_centroids_transformed, s1_featureDescriptor) \n",
    "# Save the transformed centroid file\n",
    "s1_centroids_transformed.to_file(s1_centroids_transformed_path, driver='ESRI Shapefile')"
   ]
  },
  {
   "cell_type": "markdown",
   "id": "33badc55",
   "metadata": {},
   "source": [
    "## Generate feature descriptor for Sensed Image"
   ]
  },
  {
   "cell_type": "code",
   "execution_count": null,
   "id": "e5387770",
   "metadata": {},
   "outputs": [],
   "source": [
    "s2_centroids_transformed_path = os.path.join(s2_FolderPath,s2_FileName+'-centroids-transfromed.shp')\n",
    "# Identify and drop rows with duplicate values in the 'coordinate' column\n",
    "s2_centroids = s2_centroids[~s2_centroids.duplicated(subset='geometry', keep='first')]\n",
    "# Transform coordinates into EPSG: 4326\n",
    "s2_centroids_transformed = GeoUtils.transformCRS(s2_centroids, crs)\n",
    "# Sort the centroids based on latitude\n",
    "s2_centroids_transformed = GeoUtils.sortGeoDataframe(s2_centroids_transformed)\n",
    "# Assign id to each point\n",
    "s2_centroids_transformed['id'] = range(1, len(s2_centroids_transformed) + 1)\n",
    "s2_neighbor_dist = GeoFeatures.get_neighbor_distances(s2_centroids_transformed, distanceThresholdNeighbors)\n",
    "# Calculate feature vector for each feature\n",
    "s2_featureDescriptor = GeoFeatures.get_feature_descriptor(s2_centroids_transformed,s2_neighbor_dist)\n",
    "# Append the feature descriptor to the geopandas dataframe\n",
    "# Append the feature descriptor to the geopandas dataframe\n",
    "s2_centroids_transformed = GeoFeatures.appendFeatureDescriptor(s2_centroids_transformed, s2_featureDescriptor) \n",
    "# Save the transformed centroid file\n",
    "s2_centroids_transformed.to_file(s2_centroids_transformed_path, driver='ESRI Shapefile')"
   ]
  },
  {
   "cell_type": "markdown",
   "id": "bc3b4efd",
   "metadata": {},
   "source": [
    "## Match centroids (Initial matching phase)"
   ]
  },
  {
   "cell_type": "code",
   "execution_count": null,
   "id": "09c52889",
   "metadata": {},
   "outputs": [],
   "source": [
    "#Calculate matches\n",
    "matched_features = GeoFeatures.matchFeatures(s1_centroids_transformed, s2_centroids_transformed)\n",
    "# Remove entries with empty list\n",
    "matched_features = {key: value for key, value in matched_features.items() if value not in (None, [])}\n",
    "\n",
    "matched_features_path = os.path.join(folderName,'Results','matchedFeatures-'+s1_FileName+'-'+s2_FileName+'.json')\n",
    "# Save the dictionary to a JSON file\n",
    "with open(matched_features_path, 'w') as json_file:\n",
    "    json.dump(matched_features, json_file)\n",
    "    \n",
    "# with open(matched_features_path, 'r') as json_file:\n",
    "#     matched_features = json.load(json_file)"
   ]
  },
  {
   "cell_type": "markdown",
   "id": "78ccfdd7",
   "metadata": {},
   "source": [
    "## Save initial matches as line vectors"
   ]
  },
  {
   "cell_type": "code",
   "execution_count": null,
   "id": "b1bbfbab",
   "metadata": {},
   "outputs": [],
   "source": [
    "matched_lines_path = os.path.join(folderName,'Results','matchedLines-'+s1_FileName+'-'+s2_FileName+'.shp')\n",
    "matched_List = GeoFeatures.generateSrcToDstPointsList(s1_centroids_transformed, s2_centroids_transformed, matched_features)\n",
    "GeoFeatures.drawLinesMatchedPoints(matched_List, matched_lines_path, crs);"
   ]
  },
  {
   "cell_type": "markdown",
   "id": "e2715751",
   "metadata": {},
   "source": [
    "## Remove outliers from initial match and populate additional matches"
   ]
  },
  {
   "cell_type": "code",
   "execution_count": null,
   "id": "f5fe1d1f",
   "metadata": {},
   "outputs": [],
   "source": [
    "matched_lines_inliers_path = os.path.join(folderName,'Results','matchedLinesInliers-'+s1_FileName+'-'+s2_FileName+'.shp')\n",
    "add_matched_lines_inliers_path = os.path.join(folderName,'Results','addMatchedLinesInliers-'+s1_FileName+'-'+s2_FileName+'.shp')\n",
    "(distList, brgList) = GeoFeatures.getDistBearingList(matched_List)\n",
    "thresholds = GeoFeatures.getDistBearingThresholds(distList, brgList, bins_dist, bins_brg)\n",
    "matched_features_inliers = GeoFeatures.removeOutlierPoints(s1_centroids_transformed, s2_centroids_transformed, matched_features, thresholds)\n",
    "matched_inliers_List = GeoFeatures.generateSrcToDstPointsList(s1_centroids_transformed, s2_centroids_transformed, matched_features_inliers)\n",
    "#open a fiona object\n",
    "# lineShp = fiona.open(matched_lines_inliers_path, mode='w', driver='ESRI Shapefile',schema = schema, crs = crs)\n",
    "GeoFeatures.drawLinesMatchedPoints(matched_inliers_List, matched_lines_inliers_path, crs)\n",
    "\n",
    "add_match_thresholds = GeoFeatures.get_add_matches_theshold(matched_inliers_List)\n",
    "add_matched_inliers_dict = GeoFeatures.add_feature_matches(s1_centroids_transformed, s2_centroids_transformed, add_match_thresholds)\n",
    "add_matched_inliers_List = GeoFeatures.generateSrcToDstPointsList(s1_centroids_transformed, s2_centroids_transformed, add_matched_inliers_dict)\n",
    "GeoFeatures.drawLinesMatchedPoints(add_matched_inliers_List, add_matched_lines_inliers_path, crs);"
   ]
  },
  {
   "cell_type": "markdown",
   "id": "0796c64a",
   "metadata": {},
   "source": [
    "## Save final matched pairs"
   ]
  },
  {
   "cell_type": "code",
   "execution_count": null,
   "id": "93ced69f",
   "metadata": {},
   "outputs": [],
   "source": [
    "add_matched_features_path = os.path.join(folderName,'Results','addMatchedLinesInliers-'+s1_FileName+'-'+s2_FileName+'.json')\n",
    "# # Save the dictionary to a JSON file\n",
    "with open(add_matched_features_path, 'w') as json_file:\n",
    "    json.dump(add_matched_inliers_dict, json_file)\n",
    "    \n",
    "# with open(add_matched_features_path, 'r') as json_file:\n",
    "#     add_matched_inliers_dict = json.load(json_file)"
   ]
  },
  {
   "cell_type": "markdown",
   "id": "da8a3a0b",
   "metadata": {},
   "source": [
    "## Save final matched pairs as point files that can be directly used in QGIS for georeferencing"
   ]
  },
  {
   "cell_type": "code",
   "execution_count": null,
   "id": "f4657d10",
   "metadata": {},
   "outputs": [],
   "source": [
    "GeoUtils.write_GCP_file(gcp_template_file_path, gcp_out_file, add_matched_inliers_List)"
   ]
  }
 ],
 "metadata": {
  "kernelspec": {
   "display_name": "Python 3 (ipykernel)",
   "language": "python",
   "name": "python3"
  },
  "language_info": {
   "codemirror_mode": {
    "name": "ipython",
    "version": 3
   },
   "file_extension": ".py",
   "mimetype": "text/x-python",
   "name": "python",
   "nbconvert_exporter": "python",
   "pygments_lexer": "ipython3",
   "version": "3.11.5"
  }
 },
 "nbformat": 4,
 "nbformat_minor": 5
}
