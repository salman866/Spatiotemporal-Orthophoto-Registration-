{
 "cells": [
  {
   "cell_type": "code",
   "execution_count": 4,
   "id": "d069f65b",
   "metadata": {},
   "outputs": [],
   "source": [
    "import os\n",
    "import GeoRegistration"
   ]
  },
  {
   "cell_type": "code",
   "execution_count": 5,
   "id": "f5f609da",
   "metadata": {},
   "outputs": [],
   "source": [
    "# Step 1: Load shapefiles\n",
    "folder = 'Data'\n",
    "timestamp1 = '03-02-2023'\n",
    "timestamp2 = '13-03-2023'\n",
    "raster1_path = os.path.join(folder, timestamp1, timestamp1+'-resampled-reprojected.tif')\n",
    "raster2_path = os.path.join(folder, timestamp2, timestamp2+'-resampled-reprojected.tif')\n",
    "matchPoints_file_path = os.path.join(folder, 'Results', timestamp1+'-'+timestamp2+'.points')\n",
    "registered_file_path = os.path.join(folder, timestamp2, timestamp1+'-'+timestamp2+'-registered.tif')"
   ]
  },
  {
   "cell_type": "code",
   "execution_count": 6,
   "id": "287e6121",
   "metadata": {},
   "outputs": [
    {
     "name": "stdout",
     "output_type": "stream",
     "text": [
      "Registered raster written to: Data\\13-03-2023\\03-02-2023-13-03-2023-registered.tif\n"
     ]
    }
   ],
   "source": [
    "GeoRegistration.register_raster(raster1_path, raster2_path, matchPoints_file_path, registered_file_path)"
   ]
  },
  {
   "cell_type": "code",
   "execution_count": null,
   "id": "c01b7260",
   "metadata": {},
   "outputs": [],
   "source": []
  }
 ],
 "metadata": {
  "kernelspec": {
   "display_name": "Python 3 (ipykernel)",
   "language": "python",
   "name": "python3"
  },
  "language_info": {
   "codemirror_mode": {
    "name": "ipython",
    "version": 3
   },
   "file_extension": ".py",
   "mimetype": "text/x-python",
   "name": "python",
   "nbconvert_exporter": "python",
   "pygments_lexer": "ipython3",
   "version": "3.11.5"
  }
 },
 "nbformat": 4,
 "nbformat_minor": 5
}
