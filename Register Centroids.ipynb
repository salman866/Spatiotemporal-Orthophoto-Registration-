{
 "cells": [
  {
   "cell_type": "code",
   "execution_count": 4,
   "id": "a56fb04c",
   "metadata": {},
   "outputs": [],
   "source": [
    "import os\n",
    "import GeoRegistration"
   ]
  },
  {
   "cell_type": "code",
   "execution_count": 5,
   "id": "3a461374",
   "metadata": {},
   "outputs": [],
   "source": [
    "# Step 1: Load shapefiles\n",
    "folder = 'Data'\n",
    "timestamp1 = '03-02-2023'\n",
    "timestamp2 = '13-03-2023'\n",
    "shp1_file_path = os.path.join(folder, timestamp1, timestamp1+'-centroids-transfromed.shp')\n",
    "shp2_file_path = os.path.join(folder, timestamp2, timestamp2+'-centroids-transfromed.shp')\n",
    "matchPoints_file_path = os.path.join(folder, 'Results', timestamp1+'-'+timestamp2+'.points')\n",
    "registered_file_path = os.path.join(folder, timestamp2, timestamp1+'-'+timestamp2+'-registered.shp')"
   ]
  },
  {
   "cell_type": "code",
   "execution_count": 6,
   "id": "5a2f8315",
   "metadata": {},
   "outputs": [
    {
     "name": "stdout",
     "output_type": "stream",
     "text": [
      "Registered shapefile saved to: Data\\13-03-2023\\03-02-2023-13-03-2023-registered.shp\n"
     ]
    }
   ],
   "source": [
    "GeoRegistration.register_shapefiles(shp1_file_path, shp2_file_path, matchPoints_file_path, registered_file_path)"
   ]
  },
  {
   "cell_type": "code",
   "execution_count": null,
   "id": "798eb7b4",
   "metadata": {},
   "outputs": [],
   "source": []
  }
 ],
 "metadata": {
  "kernelspec": {
   "display_name": "Python 3 (ipykernel)",
   "language": "python",
   "name": "python3"
  },
  "language_info": {
   "codemirror_mode": {
    "name": "ipython",
    "version": 3
   },
   "file_extension": ".py",
   "mimetype": "text/x-python",
   "name": "python",
   "nbconvert_exporter": "python",
   "pygments_lexer": "ipython3",
   "version": "3.11.5"
  }
 },
 "nbformat": 4,
 "nbformat_minor": 5
}
